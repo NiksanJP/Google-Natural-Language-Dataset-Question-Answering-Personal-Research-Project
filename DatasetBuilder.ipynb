{
 "cells": [
  {
   "cell_type": "code",
   "execution_count": 1,
   "metadata": {},
   "outputs": [],
   "source": [
    "import json\n",
    "import os\n",
    "import sys\n",
    "import pandas as pd"
   ]
  },
  {
   "cell_type": "code",
   "execution_count": 9,
   "metadata": {},
   "outputs": [],
   "source": [
    "trainSet = 'D:/Python/Datasets/v1.0/train/'\n",
    "testSet = 'D:/Python/Datasets/v1.0/dev/'\n",
    "trainList = []\n",
    "testList = []\n",
    "\n",
    "for item in os.listdir(trainSet):\n",
    "    if str(item)[-5:] == \"jsonl\":\n",
    "        trainList.append(trainSet + str(item))\n",
    "        \n",
    "for item in os.listdir(testSet):\n",
    "    if str(item)[-5:] == \"jsonl\":\n",
    "        testList.append(testSet + str(item))"
   ]
  },
  {
   "cell_type": "code",
   "execution_count": null,
   "metadata": {},
   "outputs": [],
   "source": [
    "short_Train = pd.DataFrame(['Question', 'Answer', ])"
   ]
  }
 ],
 "metadata": {
  "kernelspec": {
   "display_name": "Python 3.7.3 64-bit ('Tensorflow2': conda)",
   "language": "python",
   "name": "python37364bittensorflow2conda366007bebd6145e889dc22f0db6fe8ac"
  },
  "language_info": {
   "codemirror_mode": {
    "name": "ipython",
    "version": 3
   },
   "file_extension": ".py",
   "mimetype": "text/x-python",
   "name": "python",
   "nbconvert_exporter": "python",
   "pygments_lexer": "ipython3",
   "version": "3.7.3"
  }
 },
 "nbformat": 4,
 "nbformat_minor": 2
}
