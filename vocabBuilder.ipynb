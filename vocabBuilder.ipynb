{
 "cells": [
  {
   "cell_type": "code",
   "execution_count": 1,
   "metadata": {},
   "outputs": [],
   "source": [
    "import json\n",
    "import os\n",
    "import sys"
   ]
  },
  {
   "cell_type": "code",
   "execution_count": 2,
   "metadata": {},
   "outputs": [],
   "source": [
    "trainFileList = os.listdir('D:/Python/Datasets/v1.0/train/')"
   ]
  },
  {
   "cell_type": "code",
   "execution_count": 9,
   "metadata": {},
   "outputs": [
    {
     "name": "stdout",
     "output_type": "stream",
     "text": [
      "nq-train-00.jsonl\n",
      "nq-train-01.jsonl\n",
      "nq-train-02.jsonl\n",
      "nq-train-03.jsonl\n",
      "nq-train-04.jsonl\n",
      "nq-train-05.jsonl\n",
      "nq-train-06.jsonl\n",
      "nq-train-07.jsonl\n",
      "nq-train-08.jsonl\n",
      "nq-train-09.jsonl\n",
      "nq-train-10.jsonl\n",
      "nq-train-11.jsonl\n",
      "nq-train-12.jsonl\n",
      "nq-train-13.jsonl\n",
      "nq-train-14.jsonl\n",
      "nq-train-15.jsonl\n",
      "nq-train-16.jsonl\n",
      "nq-train-17.jsonl\n",
      "nq-train-18.jsonl\n",
      "nq-train-19.jsonl\n",
      "nq-train-20.jsonl\n",
      "nq-train-21.jsonl\n",
      "nq-train-22.jsonl\n",
      "nq-train-23.jsonl\n",
      "nq-train-24.jsonl\n",
      "nq-train-25.jsonl\n",
      "nq-train-26.jsonl\n",
      "nq-train-27.jsonl\n",
      "nq-train-28.jsonl\n",
      "nq-train-29.jsonl\n",
      "nq-train-30.jsonl\n",
      "nq-train-31.jsonl\n",
      "nq-train-32.jsonl\n",
      "nq-train-33.jsonl\n",
      "nq-train-34.jsonl\n",
      "nq-train-35.jsonl\n",
      "nq-train-36.jsonl\n",
      "nq-train-37.jsonl\n",
      "nq-train-38.jsonl\n",
      "nq-train-39.jsonl\n",
      "nq-train-40.jsonl\n",
      "nq-train-41.jsonl\n",
      "nq-train-42.jsonl\n",
      "nq-train-43.jsonl\n",
      "nq-train-44.jsonl\n",
      "nq-train-45.jsonl\n",
      "nq-train-46.jsonl\n",
      "nq-train-47.jsonl\n",
      "nq-train-48.jsonl\n",
      "nq-train-49.jsonl\n"
     ]
    }
   ],
   "source": [
    "vocab = []\n",
    "for path in trainFileList:\n",
    "    print(path)\n",
    "    for line in open('D:/Python/Datasets/v1.0/train/' + path):\n",
    "        vocab += [x for x in ''.join(dict.fromkeys(line)) if x not in vocab][:]\n",
    "\n",
    "    j = json.dumps(vocab)\n",
    "    f = open(\"dict.json\", \"w\")\n",
    "    f.write(j)\n",
    "    f.close()\n",
    "        "
   ]
  },
  {
   "cell_type": "code",
   "execution_count": 10,
   "metadata": {},
   "outputs": [
    {
     "name": "stdout",
     "output_type": "stream",
     "text": [
      "20543\n"
     ]
    }
   ],
   "source": [
    "print(len(vocab))"
   ]
  },
  {
   "cell_type": "code",
   "execution_count": 13,
   "metadata": {},
   "outputs": [],
   "source": [
    "vocab.sort()"
   ]
  },
  {
   "cell_type": "code",
   "execution_count": 14,
   "metadata": {},
   "outputs": [],
   "source": [
    "j = json.dumps(vocab)\n",
    "f = open(\"dict.json\", \"w\")\n",
    "f.write(j)\n",
    "f.close()"
   ]
  },
  {
   "cell_type": "code",
   "execution_count": 15,
   "metadata": {},
   "outputs": [],
   "source": [
    "with open('dict_list.txt', 'w') as filehandle:\n",
    "    for listitem in vocab:\n",
    "        filehandle.write('%s\\n' % listitem)"
   ]
  },
  {
   "cell_type": "code",
   "execution_count": null,
   "metadata": {},
   "outputs": [],
   "source": []
  }
 ],
 "metadata": {
  "kernelspec": {
   "display_name": "Python 3.7.3 64-bit ('Tensorflow2': conda)",
   "language": "python",
   "name": "python37364bittensorflow2conda366007bebd6145e889dc22f0db6fe8ac"
  },
  "language_info": {
   "codemirror_mode": {
    "name": "ipython",
    "version": 3
   },
   "file_extension": ".py",
   "mimetype": "text/x-python",
   "name": "python",
   "nbconvert_exporter": "python",
   "pygments_lexer": "ipython3",
   "version": "3.7.3"
  }
 },
 "nbformat": 4,
 "nbformat_minor": 2
}
