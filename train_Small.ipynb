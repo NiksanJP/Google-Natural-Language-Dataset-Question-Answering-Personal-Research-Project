{
 "cells": [
  {
   "cell_type": "code",
   "execution_count": 1,
   "metadata": {},
   "outputs": [
    {
     "name": "stdout",
     "output_type": "stream",
     "text": [
      "WARNING:tensorflow:Falling back to tensorflow client, its recommended to install the cloud tpu client directly with pip install cloud-tpu-client .\n"
     ]
    }
   ],
   "source": [
    "import tensorflow as tf\n",
    "from datetime import datetime\n",
    "import os \n",
    "import numpy as np\n",
    "import sys\n",
    "import pandas as pd\n",
    "import matplotlib.pyplot as plt\n",
    "import numpy as np\n",
    "import cv2\n",
    "import tensorflow.keras.backend as K\n",
    "from tensorflow.keras.regularizers import l1"
   ]
  },
  {
   "cell_type": "code",
   "execution_count": 2,
   "metadata": {},
   "outputs": [],
   "source": [
    "class training:\n",
    "    def __init__(self):\n",
    "        #self.model = self.getModel()\n",
    "        #self.model.summary()\n",
    "\n",
    "        #self.optimizer = tf.keras.optimizers.Adam(lr=1e-3)\n",
    "        self.activation = 'relu'\n",
    "        self.optimizer = tf.keras.optimizers.Adam()\n",
    "        #self.model.compile(self.optimizer, loss = 'mse', metrics = ['accuracy'] )\n",
    "        #self.model.summary()\n",
    "        \n",
    "        #self.preMadeModel = self.get_eye_tracker_model()\n",
    "        self.preMadeModel = self.getModel()\n",
    "        self.preMadeModel.compile(self.optimizer, loss = 'mse', metrics = [self.myAccuracy])\n",
    "    \n",
    "    def myAccuracy(self, y_true, y_pred):\n",
    "        diff = K.abs(y_true-y_pred) #absolute difference between correct and predicted values\n",
    "        correct = K.less(diff,0.05) #tensor with 0 for false values and 1 for true values\n",
    "        return K.mean(correct) #sum all 1's and divide by the total.\n",
    "    \n",
    "    def getModel(self):\n",
    "        leftEyeInput = tf.keras.layers.Input(shape = (64,64,3))\n",
    "        a = tf.keras.layers.Conv2D(96, kernel_size = 11, strides = 4, activation = self.activation, kernel_regularizer = l1(0.01), bias_regularizer = l1(0.01))(leftEyeInput)\n",
    "        a = tf.keras.layers.MaxPooling2D(pool_size = 3, strides = 2)(a)\n",
    "        a = tf.keras.layers.BatchNormalization()(a)\n",
    "        #a = tf.keras.layers.Conv2D(256, kernel_size = 5, activation = self.activation)(a)\n",
    "        #a = tf.keras.layers.MaxPooling2D(pool_size = 3, strides = 2)(a)\n",
    "        #a = tf.keras.layers.BatchNormalization()(a)\n",
    "        #a = tf.keras.layers.Conv2D(384, kernel_size = 3, activation = self.activation)(a)\n",
    "        #a = tf.keras.layers.Conv2D(64, kernel_size = 11, strides = 4, activation = self.activation)(a)\n",
    "        a = tf.keras.layers.Flatten()(a)\n",
    "        lModel = tf.keras.models.Model(inputs = leftEyeInput, outputs = a)\n",
    "\n",
    "        rightEyeInput = tf.keras.layers.Input(shape = (64,64,3))\n",
    "        b = tf.keras.layers.Conv2D(96, kernel_size = 11, strides = 4, activation = self.activation, kernel_regularizer = l1(0.01), bias_regularizer = l1(0.01))(rightEyeInput)\n",
    "        b = tf.keras.layers.MaxPooling2D(pool_size = 3, strides = 2)(b)\n",
    "        b = tf.keras.layers.BatchNormalization()(b)\n",
    "        #b = tf.keras.layers.Conv2D(256, kernel_size = 5, activation = self.activation)(b)\n",
    "        #b = tf.keras.layers.MaxPooling2D(pool_size = 3, strides = 2)(b)\n",
    "        #b = tf.keras.layers.BatchNormalization()(b)\n",
    "        #b = tf.keras.layers.Conv2D(384, kernel_size = 3, activation = self.activation)(b)\n",
    "        #b = tf.keras.layers.Conv2D(64, kernel_size = 11, strides = 4, activation = self.activation)(b)\n",
    "        b = tf.keras.layers.Flatten()(b)\n",
    "        rModel = tf.keras.models.Model(inputs = rightEyeInput, outputs = b)\n",
    "\n",
    "\n",
    "        outEyes = tf.keras.layers.concatenate([rModel.output, lModel.output])\n",
    "        outEyes = tf.keras.layers.Dense(128, activation = self.activation, kernel_regularizer = l1(0.01), bias_regularizer = l1(0.01))(outEyes)\n",
    "\n",
    "        #Face\n",
    "        faceInput = tf.keras.layers.Input(shape = (64,64,3))\n",
    "        c = tf.keras.layers.Conv2D(96, kernel_size = 11, strides = 4, activation = self.activation, kernel_regularizer = l1(0.01), bias_regularizer = l1(0.01))(faceInput)\n",
    "        c = tf.keras.layers.MaxPooling2D(pool_size = 3, strides = 2)(c)\n",
    "        c = tf.keras.layers.BatchNormalization()(c)\n",
    "        #c = tf.keras.layers.Conv2D(256, kernel_size = 5, activation = self.activation)(c)\n",
    "        #c = tf.keras.layers.MaxPooling2D(pool_size = 3, strides = 2)(c)\n",
    "        #c = tf.keras.layers.BatchNormalization()(c)\n",
    "        #c = tf.keras.layers.Conv2D(384, kernel_size = 3, activation = self.activation)(c)\n",
    "        #c = tf.keras.layers.Conv2D(64, kernel_size = 11, strides = 4, activation = self.activation)(c)\n",
    "        c = tf.keras.layers.Flatten()(c)\n",
    "        fModel = tf.keras.models.Model(inputs = faceInput, outputs = c)\n",
    "\n",
    "        #Face Grid\n",
    "        faceGridInput = tf.keras.layers.Input(shape = (25,25))\n",
    "        d = tf.keras.layers.Flatten()(faceGridInput)\n",
    "        gModel = tf.keras.models.Model(inputs = faceGridInput, outputs = d)\n",
    "\n",
    "        outFace = tf.keras.layers.concatenate([fModel.output, gModel.output])\n",
    "        outFace = tf.keras.layers.Dense(128, activation = self.activation, kernel_regularizer = l1(0.01), bias_regularizer = l1(0.01))(outFace)\n",
    "\n",
    "        finalModel = tf.keras.layers.concatenate([outFace, outEyes])\n",
    "        finalModel = tf.keras.layers.Dense(128, activation = self.activation, kernel_regularizer = l1(0.01), bias_regularizer = l1(0.01))(finalModel)\n",
    "        finalModel = tf.keras.layers.Dropout(0.4)(finalModel)\n",
    "        finalModel = tf.keras.layers.Dense(2)(finalModel)\n",
    "\n",
    "\n",
    "        model = tf.keras.models.Model(inputs = [leftEyeInput, rightEyeInput, faceInput, faceGridInput], outputs = finalModel)\n",
    "\n",
    "        return model\n",
    "    \n",
    "    def get_eye_model(self):\n",
    "        eye_img_input = tf.keras.layers.Input(shape=(64,64,3))\n",
    "    \n",
    "        h = tf.keras.layers.Conv2D(96, (11, 11), activation=self.activation)(eye_img_input)\n",
    "        h = tf.keras.layers.MaxPool2D(pool_size=(2, 2))(h)\n",
    "        h = tf.keras.layers.Conv2D(256, (5, 5), activation=self.activation)(h)\n",
    "        h = tf.keras.layers.MaxPool2D(pool_size=(2, 2))(h)\n",
    "        h = tf.keras.layers.Conv2D(384, (3, 3), activation=self.activation)(h)\n",
    "        h = tf.keras.layers.MaxPool2D(pool_size=(2, 2))(h)\n",
    "        out = tf.keras.layers.Conv2D(64, (1, 1), activation=self.activation)(h)\n",
    "    \n",
    "        model = tf.keras.models.Model(inputs=eye_img_input, outputs=out)\n",
    "    \n",
    "        return model\n",
    "\n",
    "    # face model\n",
    "    def get_face_model(self):\n",
    "        face_img_input = tf.keras.layers.Input(shape=(64,64,3))\n",
    "    \n",
    "        h = tf.keras.layers.Conv2D(96, (11, 11), activation=self.activation)(face_img_input)\n",
    "        h = tf.keras.layers.MaxPool2D(pool_size=(2, 2))(h)\n",
    "        h = tf.keras.layers.Conv2D(256, (5, 5), activation=self.activation)(h)\n",
    "        h = tf.keras.layers.MaxPool2D(pool_size=(2, 2))(h)\n",
    "        h = tf.keras.layers.Conv2D(384, (3, 3), activation=self.activation)(h)\n",
    "        h = tf.keras.layers.MaxPool2D(pool_size=(2, 2))(h)\n",
    "        out = tf.keras.layers.Conv2D(64, (1, 1), activation=self.activation)(h)\n",
    "    \n",
    "        model = tf.keras.models.Model(inputs=face_img_input, outputs=out)\n",
    "    \n",
    "        return model\n",
    "    \n",
    "    \n",
    "    # final model\n",
    "    def get_eye_tracker_model(self):\n",
    "    \n",
    "    \n",
    "        # get partial models\n",
    "        eye_net = self.get_eye_model()\n",
    "        face_net_part = self.get_face_model()\n",
    "    \n",
    "        # right eye model\n",
    "        right_eye_input = tf.keras.layers.Input(shape=(64, 64, 3))\n",
    "        right_eye_net = eye_net(right_eye_input)\n",
    "    \n",
    "        # left eye model\n",
    "        left_eye_input = tf.keras.layers.Input(shape=(64, 64, 3))\n",
    "        left_eye_net = eye_net(left_eye_input)\n",
    "    \n",
    "        # face model\n",
    "        face_input = tf.keras.layers.Input(shape=(64, 64, 3))\n",
    "        face_net = face_net_part(face_input)\n",
    "    \n",
    "        # face grid\n",
    "        face_grid = tf.keras.layers.Input(shape=(25,25))\n",
    "    \n",
    "        # tf.keras.layers.Dense layers for eyes\n",
    "        e = tf.keras.layers.concatenate([left_eye_net, right_eye_net])\n",
    "        e = tf.keras.layers.Flatten()(e)\n",
    "        fc_e1 = tf.keras.layers.Dense(128, activation=self.activation)(e)\n",
    "    \n",
    "        # tf.keras.layers.Dense layers for face\n",
    "        f = tf.keras.layers.Flatten()(face_net)\n",
    "        fc_f1 = tf.keras.layers.Dense(128, activation=self.activation)(f)\n",
    "        fc_f2 = tf.keras.layers.Dense(64, activation=self.activation)(fc_f1)\n",
    "    \n",
    "        # tf.keras.layers.Dense layers for face grid\n",
    "        fg = tf.keras.layers.Flatten()(face_grid)\n",
    "        fc_fg1 = tf.keras.layers.Dense(256, activation=self.activation)(fg)\n",
    "        fc_fg2 = tf.keras.layers.Dense(128, activation=self.activation)(fc_fg1)\n",
    "    \n",
    "        # final tf.keras.layers.Dense layers\n",
    "        h = tf.keras.layers.concatenate([fc_e1, fc_f2, fc_fg2])\n",
    "        fc1 = tf.keras.layers.Dense(128, activation=self.activation)(h)\n",
    "        fc2 = tf.keras.layers.Dense(2)(fc1)\n",
    "    \n",
    "        # final model\n",
    "        final_model = tf.keras.models.Model(\n",
    "            inputs=[right_eye_input, left_eye_input, face_input, face_grid],\n",
    "            outputs=[fc2])\n",
    "    \n",
    "        return final_model\n",
    "        "
   ]
  },
  {
   "cell_type": "code",
   "execution_count": 3,
   "metadata": {},
   "outputs": [],
   "source": [
    "train = training()"
   ]
  },
  {
   "cell_type": "code",
   "execution_count": 4,
   "metadata": {},
   "outputs": [
    {
     "name": "stdout",
     "output_type": "stream",
     "text": [
      "Model: \"model_4\"\n",
      "__________________________________________________________________________________________________\n",
      "Layer (type)                    Output Shape         Param #     Connected to                     \n",
      "==================================================================================================\n",
      "input_3 (InputLayer)            [(None, 64, 64, 3)]  0                                            \n",
      "__________________________________________________________________________________________________\n",
      "input_2 (InputLayer)            [(None, 64, 64, 3)]  0                                            \n",
      "__________________________________________________________________________________________________\n",
      "input_1 (InputLayer)            [(None, 64, 64, 3)]  0                                            \n",
      "__________________________________________________________________________________________________\n",
      "conv2d_2 (Conv2D)               (None, 14, 14, 96)   34944       input_3[0][0]                    \n",
      "__________________________________________________________________________________________________\n",
      "conv2d_1 (Conv2D)               (None, 14, 14, 96)   34944       input_2[0][0]                    \n",
      "__________________________________________________________________________________________________\n",
      "conv2d (Conv2D)                 (None, 14, 14, 96)   34944       input_1[0][0]                    \n",
      "__________________________________________________________________________________________________\n",
      "max_pooling2d_2 (MaxPooling2D)  (None, 6, 6, 96)     0           conv2d_2[0][0]                   \n",
      "__________________________________________________________________________________________________\n",
      "max_pooling2d_1 (MaxPooling2D)  (None, 6, 6, 96)     0           conv2d_1[0][0]                   \n",
      "__________________________________________________________________________________________________\n",
      "max_pooling2d (MaxPooling2D)    (None, 6, 6, 96)     0           conv2d[0][0]                     \n",
      "__________________________________________________________________________________________________\n",
      "batch_normalization_2 (BatchNor (None, 6, 6, 96)     384         max_pooling2d_2[0][0]            \n",
      "__________________________________________________________________________________________________\n",
      "input_4 (InputLayer)            [(None, 25, 25)]     0                                            \n",
      "__________________________________________________________________________________________________\n",
      "batch_normalization_1 (BatchNor (None, 6, 6, 96)     384         max_pooling2d_1[0][0]            \n",
      "__________________________________________________________________________________________________\n",
      "batch_normalization (BatchNorma (None, 6, 6, 96)     384         max_pooling2d[0][0]              \n",
      "__________________________________________________________________________________________________\n",
      "flatten_2 (Flatten)             (None, 3456)         0           batch_normalization_2[0][0]      \n",
      "__________________________________________________________________________________________________\n",
      "flatten_3 (Flatten)             (None, 625)          0           input_4[0][0]                    \n",
      "__________________________________________________________________________________________________\n",
      "flatten_1 (Flatten)             (None, 3456)         0           batch_normalization_1[0][0]      \n",
      "__________________________________________________________________________________________________\n",
      "flatten (Flatten)               (None, 3456)         0           batch_normalization[0][0]        \n",
      "__________________________________________________________________________________________________\n",
      "concatenate_1 (Concatenate)     (None, 4081)         0           flatten_2[0][0]                  \n",
      "                                                                 flatten_3[0][0]                  \n",
      "__________________________________________________________________________________________________\n",
      "concatenate (Concatenate)       (None, 6912)         0           flatten_1[0][0]                  \n",
      "                                                                 flatten[0][0]                    \n",
      "__________________________________________________________________________________________________\n",
      "dense_1 (Dense)                 (None, 128)          522496      concatenate_1[0][0]              \n",
      "__________________________________________________________________________________________________\n",
      "dense (Dense)                   (None, 128)          884864      concatenate[0][0]                \n",
      "__________________________________________________________________________________________________\n",
      "concatenate_2 (Concatenate)     (None, 256)          0           dense_1[0][0]                    \n",
      "                                                                 dense[0][0]                      \n",
      "__________________________________________________________________________________________________\n",
      "dense_2 (Dense)                 (None, 128)          32896       concatenate_2[0][0]              \n",
      "__________________________________________________________________________________________________\n",
      "dropout (Dropout)               (None, 128)          0           dense_2[0][0]                    \n",
      "__________________________________________________________________________________________________\n",
      "dense_3 (Dense)                 (None, 2)            258         dropout[0][0]                    \n",
      "==================================================================================================\n",
      "Total params: 1,546,498\n",
      "Trainable params: 1,545,922\n",
      "Non-trainable params: 576\n",
      "__________________________________________________________________________________________________\n"
     ]
    }
   ],
   "source": [
    "model = train.preMadeModel\n",
    "model.summary()"
   ]
  },
  {
   "cell_type": "code",
   "execution_count": 5,
   "metadata": {},
   "outputs": [],
   "source": [
    "data = np.load('eye_tracker_train_and_val.npz')"
   ]
  },
  {
   "cell_type": "code",
   "execution_count": 6,
   "metadata": {},
   "outputs": [
    {
     "name": "stdout",
     "output_type": "stream",
     "text": [
      "((48000, 64, 64, 3), (48000, 64, 64, 3), (48000, 64, 64, 3), (48000, 25, 25), (48000, 2))\n",
      "(array([2.4501677, 0.8047622], dtype=float32), array([ 1.7015493, -1.93875  ], dtype=float32))\n"
     ]
    }
   ],
   "source": [
    "a = data['train_eye_right'].astype('float32')\n",
    "b = data['train_eye_left'].astype('float32')\n",
    "c = data['train_face'].astype('float32')\n",
    "d = data['train_face_mask'].astype('float32')\n",
    "Y = data['train_y'].astype('float32')\n",
    "\n",
    "val_a = data['val_eye_right'].astype('float32')\n",
    "val_b = data['val_eye_left'].astype('float32')\n",
    "val_c = data['val_face'].astype('float32')\n",
    "val_d = data['val_face_mask'].astype('float32')\n",
    "val_Y = data['val_y'].astype('float32')\n",
    "\n",
    "print(a.shape, b.shape, c.shape, d.shape, Y.shape)\n",
    "\n",
    "print(Y[0], val_Y[0])"
   ]
  },
  {
   "cell_type": "code",
   "execution_count": 7,
   "metadata": {
    "scrolled": true
   },
   "outputs": [
    {
     "data": {
      "text/plain": [
       "[<matplotlib.lines.Line2D at 0x7f46045b7ad0>]"
      ]
     },
     "execution_count": 7,
     "metadata": {},
     "output_type": "execute_result"
    },
    {
     "data": {
      "image/png": "[encoded data removed]",
      "text/plain": [
       "<Figure size 432x288 with 1 Axes>"
      ]
     },
     "metadata": {
      "needs_background": "light"
     },
     "output_type": "display_data"
    }
   ],
   "source": [
    "plt.plot(Y[:, 0], Y[:, 1], 'ro', markersize=1)"
   ]
  },
  {
   "cell_type": "code",
   "execution_count": null,
   "metadata": {},
   "outputs": [
    {
     "name": "stdout",
     "output_type": "stream",
     "text": [
      "Train on 48000 samples, validate on 5000 samples\n",
      "Epoch 1/100\n",
      "48000/48000 [==============================] - 80s 2ms/sample - loss: 63.6158 - myAccuracy: 0.0186 - val_loss: 40.4608 - val_myAccuracy: 0.0094\n",
      "Epoch 2/100\n",
      "48000/48000 [==============================] - 80s 2ms/sample - loss: 23.0034 - myAccuracy: 0.0170 - val_loss: 24.9217 - val_myAccuracy: 0.0142\n",
      "Epoch 3/100\n",
      "48000/48000 [==============================] - 82s 2ms/sample - loss: 20.0432 - myAccuracy: 0.0158 - val_loss: 29.0565 - val_myAccuracy: 0.0087\n",
      "Epoch 4/100\n",
      "48000/48000 [==============================] - 84s 2ms/sample - loss: 18.5987 - myAccuracy: 0.0171 - val_loss: 28.9347 - val_myAccuracy: 0.0109\n",
      "Epoch 5/100\n",
      "48000/48000 [==============================] - 83s 2ms/sample - loss: 17.3051 - myAccuracy: 0.0167 - val_loss: 27.7042 - val_myAccuracy: 0.0127\n",
      "Epoch 6/100\n",
      "48000/48000 [==============================] - 82s 2ms/sample - loss: 16.5189 - myAccuracy: 0.0165 - val_loss: 27.1770 - val_myAccuracy: 0.0130\n",
      "Epoch 7/100\n",
      "48000/48000 [==============================] - 84s 2ms/sample - loss: 16.3512 - myAccuracy: 0.0167 - val_loss: 16.5021 - val_myAccuracy: 0.0169\n",
      "Epoch 8/100\n",
      "48000/48000 [==============================] - 82s 2ms/sample - loss: 15.5151 - myAccuracy: 0.0167 - val_loss: 18.0525 - val_myAccuracy: 0.0139\n",
      "Epoch 9/100\n",
      "48000/48000 [==============================] - 80s 2ms/sample - loss: 14.9442 - myAccuracy: 0.0179 - val_loss: 16.7242 - val_myAccuracy: 0.0131\n",
      "Epoch 10/100\n",
      "48000/48000 [==============================] - 79s 2ms/sample - loss: 14.5227 - myAccuracy: 0.0175 - val_loss: 20.4053 - val_myAccuracy: 0.0099\n",
      "Epoch 11/100\n",
      "48000/48000 [==============================] - 78s 2ms/sample - loss: 14.3346 - myAccuracy: 0.0174 - val_loss: 13.8713 - val_myAccuracy: 0.0174\n",
      "Epoch 12/100\n",
      "20736/48000 [===========>..................] - ETA: 43s - loss: 13.8257 - myAccuracy: 0.0184"
     ]
    }
   ],
   "source": [
    "logdir = \"logs/scalars/\" + datetime.now().strftime(\"%Y%m%d-%H%M%S\")\n",
    "tensorboard_callback = tf.keras.callbacks.TensorBoard(log_dir=logdir)\n",
    "\n",
    "model.load_weights('newWeights.h5')\n",
    "history = model.fit([a, b, c, d],Y ,\n",
    "        epochs = 100,\n",
    "        validation_data = ([val_a, val_b, val_c, val_d], val_Y),\n",
    "        verbose = 1,\n",
    "        batch_size = 128,\n",
    "        shuffle = True,\n",
    "        callbacks=[tensorboard_callback]\n",
    "     )"
   ]
  },
  {
   "cell_type": "code",
   "execution_count": null,
   "metadata": {},
   "outputs": [],
   "source": [
    "loss = history.history['loss']\n",
    "val_loss = history.history['val_loss']\n",
    "epochs = range(1, len(loss) + 1)\n",
    "plt.plot(epochs, loss, color='red', label='Training loss')\n",
    "plt.plot(epochs, val_loss, color='green', label='Validation loss')\n",
    "plt.title('Training and validation loss')\n",
    "plt.xlabel('Epochs')\n",
    "plt.ylabel('Loss')\n",
    "plt.legend()\n",
    "plt.show()"
   ]
  },
  {
   "cell_type": "code",
   "execution_count": null,
   "metadata": {},
   "outputs": [],
   "source": [
    "model.evaluate([val_a, val_b, val_c, val_d], val_Y,verbose = 0)"
   ]
  },
  {
   "cell_type": "code",
   "execution_count": null,
   "metadata": {},
   "outputs": [],
   "source": [
    "test_a = val_a[1000:1010]\n",
    "test_b = val_b[1000:1010]\n",
    "test_c = val_c[1000:1010]\n",
    "test_d = val_d[1000:1010]\n",
    "prediction = train.preMadeModel.predict([test_a ,test_b ,test_c , test_d ])\n",
    "\n",
    "n = 0\n",
    "for i in range(1000,1010):\n",
    "    print(data['val_y'][i], prediction[n])\n",
    "    n += 1"
   ]
  },
  {
   "cell_type": "code",
   "execution_count": null,
   "metadata": {},
   "outputs": [],
   "source": [
    "model.save_weights('newWeights.h5')"
   ]
  },
  {
   "cell_type": "code",
   "execution_count": null,
   "metadata": {},
   "outputs": [],
   "source": []
  }
 ],
 "metadata": {
  "kernelspec": {
   "display_name": "Python 2",
   "language": "python",
   "name": "python2"
  },
  "language_info": {
   "codemirror_mode": {
    "name": "ipython",
    "version": 2
   },
   "file_extension": ".py",
   "mimetype": "text/x-python",
   "name": "python",
   "nbconvert_exporter": "python",
   "pygments_lexer": "ipython2",
   "version": "2.7.17"
  }
 },
 "nbformat": 4,
 "nbformat_minor": 2
}
